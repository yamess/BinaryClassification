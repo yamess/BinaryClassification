{
 "cells": [
  {
   "cell_type": "code",
   "execution_count": 1,
   "id": "8f79bbed-4d9d-47c5-a26c-aee6627e80f3",
   "metadata": {},
   "outputs": [],
   "source": [
    "import torch\n",
    "import torch.nn as nn\n",
    "from torch import optim\n",
    "from torch.optim import lr_scheduler\n",
    "from torch.utils.data import DataLoader, RandomSampler, SequentialSampler\n",
    "\n",
    "from src.config import config\n",
    "from src.dataset import CustomDataset, DataTransformer\n",
    "from src.engine import engine\n",
    "from src.metrics import mbe\n",
    "from src.model import NeuralNet\n",
    "from src.utils import get_cat_emb_dims, init_random_seed\n",
    "\n",
    "import pandas as pd\n",
    "import numpy as np\n",
    "from sklearn.model_selection import train_test_split\n",
    "import os\n",
    "import pickle\n",
    "import random"
   ]
  },
  {
   "cell_type": "code",
   "execution_count": 2,
   "id": "c3006650-5d37-4db4-b83c-950adf1bfb91",
   "metadata": {},
   "outputs": [],
   "source": [
    "if torch.cuda.is_available():\n",
    "    torch.cuda.empty_cache()\n",
    "init_random_seed(seed=config[\"SEED\"])"
   ]
  },
  {
   "cell_type": "code",
   "execution_count": 3,
   "id": "769f9c7b-5cd0-45b2-bd4c-3de2b9fbf329",
   "metadata": {},
   "outputs": [],
   "source": [
    "trainDF = pd.read_csv(config[\"TRAIN_DATA_PATH\"], delimiter=\";\")\n",
    "data_transformer = DataTransformer(is_train_mode=True)\n",
    "processed_df = data_transformer.transform(trainDF)"
   ]
  },
  {
   "cell_type": "code",
   "execution_count": 4,
   "id": "235ea376-92d4-4dd0-aba7-4c8c21fd3de7",
   "metadata": {},
   "outputs": [],
   "source": [
    "with open(\"models/encoders.pickle\", \"wb\") as f:\n",
    "    pickle.dump(data_transformer.encoders, f)\n",
    "with open(\"models/scaler.pickle\", \"wb\") as f:\n",
    "    pickle.dump(data_transformer.scaler, f)"
   ]
  },
  {
   "cell_type": "code",
   "execution_count": 5,
   "id": "baffda47-0ebc-4cd1-8d9f-27e7466371e6",
   "metadata": {},
   "outputs": [],
   "source": [
    "# embedding columns and dimensions: cat column with more than 2 categories\n",
    "emb_dims, emb_cols = get_cat_emb_dims(\n",
    "    cat_data=processed_df.loc[:, data_transformer.cat_cols]\n",
    ")\n",
    "cont_cols = [\n",
    "    c for c in processed_df.columns if c not in emb_cols and c != \"install\" and c != \"id\"\n",
    "]"
   ]
  },
  {
   "cell_type": "code",
   "execution_count": 6,
   "id": "2e3ea37d-5f71-42ce-93e2-1d602578e9ae",
   "metadata": {},
   "outputs": [],
   "source": [
    "# Let's split the dataset into train, valid and test\n",
    "y = processed_df.install\n",
    "X = processed_df.drop(\"install\", axis=1)\n",
    "X_train, X_test, y_train, y_test = train_test_split(\n",
    "    X, y, train_size=0.85, random_state=config[\"SEED\"], stratify=y\n",
    ")\n",
    "\n",
    "X_train, X_valid, y_train, y_valid = train_test_split(\n",
    "    X_train, y_train, train_size=0.85, random_state=config[\"SEED\"], stratify=y_train\n",
    ")"
   ]
  },
  {
   "cell_type": "code",
   "execution_count": 7,
   "id": "413ab0ee-2554-4209-b363-5648565cf5fa",
   "metadata": {},
   "outputs": [],
   "source": [
    "# Create dataset instance to pass to dataloader\n",
    "# Training set\n",
    "train_dataset = CustomDataset(\n",
    "    emb_cols=emb_cols, cont_cols=cont_cols, x=X_train, y=y_train\n",
    ")\n",
    "\n",
    "# Validation set\n",
    "valid_dataset = CustomDataset(\n",
    "    emb_cols=emb_cols, cont_cols=cont_cols, x=X_valid, y=y_valid\n",
    ")\n",
    "\n",
    "# Dataloader\n",
    "train_dataloader = DataLoader(\n",
    "    train_dataset,\n",
    "    sampler=RandomSampler(train_dataset),\n",
    "    batch_size=config[\"TRAIN_BS\"],\n",
    ")\n",
    "\n",
    "valid_dataloader = DataLoader(\n",
    "    valid_dataset,\n",
    "    sampler=SequentialSampler(valid_dataset),\n",
    "    batch_size=config[\"VALID_BS\"],\n",
    ")"
   ]
  },
  {
   "cell_type": "code",
   "execution_count": 8,
   "id": "e4fa1ae4-dc6a-4ac7-8bbb-4d334db487cf",
   "metadata": {},
   "outputs": [
    {
     "data": {
      "text/plain": [
       "NeuralNet(\n",
       "  (bn1): BatchNorm1d(13, eps=1e-05, momentum=0.1, affine=True, track_running_stats=True)\n",
       "  (emb_drop): Dropout(p=0.6, inplace=False)\n",
       "  (embedding_layers): ModuleList(\n",
       "    (0): Embedding(9694, 25)\n",
       "    (1): Embedding(197, 25)\n",
       "    (2): Embedding(34850, 25)\n",
       "    (3): Embedding(223, 25)\n",
       "    (4): Embedding(5, 2)\n",
       "    (5): Embedding(28299, 25)\n",
       "  )\n",
       "  (combined_layer): Sequential(\n",
       "    (0): Linear(in_features=140, out_features=64, bias=True)\n",
       "    (1): BatchNorm1d(64, eps=1e-05, momentum=0.1, affine=True, track_running_stats=True)\n",
       "    (2): ReLU()\n",
       "    (3): Dropout(p=0.6, inplace=False)\n",
       "    (4): Linear(in_features=64, out_features=32, bias=True)\n",
       "    (5): BatchNorm1d(32, eps=1e-05, momentum=0.1, affine=True, track_running_stats=True)\n",
       "    (6): ReLU()\n",
       "    (7): Dropout(p=0.6, inplace=False)\n",
       "  )\n",
       "  (output_layer): Linear(in_features=32, out_features=1, bias=True)\n",
       ")"
      ]
     },
     "execution_count": 8,
     "metadata": {},
     "output_type": "execute_result"
    }
   ],
   "source": [
    "model = NeuralNet(cont_input_size=len(cont_cols), emb_dims=emb_dims)\n",
    "model.to(config[\"DEVICE\"])"
   ]
  },
  {
   "cell_type": "code",
   "execution_count": 9,
   "id": "53119de9-4a9f-47ec-9afc-6353550665e5",
   "metadata": {},
   "outputs": [],
   "source": [
    "# Model instantiation\n",
    "checkpoint=None\n",
    "if os.path.isfile(config[\"CHECKPOINT_PATH\"]):\n",
    "    checkpoint = torch.load(config[\"CHECKPOINT_PATH\"])\n",
    "    model.load_state_dict(checkpoint[\"best_state_dict\"])"
   ]
  },
  {
   "cell_type": "code",
   "execution_count": 10,
   "id": "2b69a375-96c3-4346-b4a8-37341f70d322",
   "metadata": {},
   "outputs": [],
   "source": [
    "optimizer = optim.Adam(model.parameters(), lr=config[\"LR\"])\n",
    "\n",
    "# we're setting the positive class weight because the data is imbalanced\n",
    "pos_weight = y_train.value_counts()[0] / y_train.value_counts()[1]\n",
    "criterion = nn.BCEWithLogitsLoss(pos_weight=torch.tensor(pos_weight))\n",
    "criterion.to(config[\"DEVICE\"])\n",
    "\n",
    "scheduler = lr_scheduler.ReduceLROnPlateau(\n",
    "    optimizer, 'min', patience=10,\n",
    ")"
   ]
  },
  {
   "cell_type": "code",
   "execution_count": 11,
   "id": "6dd4d7b7-4236-4550-b6b4-2adeccdb3051",
   "metadata": {
    "scrolled": true,
    "tags": []
   },
   "outputs": [
    {
     "name": "stdout",
     "output_type": "stream",
     "text": [
      "======================= Training Started ============================\n",
      "Epoch: 4    | Elapsed Time:  54.22 s | Train Loss:  1.1867 | Valid Loss:  1.1881 | Train ROC AUC:  0.7445 | Valid ROC AUC:  0.7487 | Train MBE:  0.4018 | Valid MBE:  0.4457 | \n",
      "Epoch: 5    | Elapsed Time:  54.51 s | Train Loss:  1.1713 | Valid Loss:  1.1765 | Train ROC AUC:  0.7538 | Valid ROC AUC:  0.7486 | Train MBE:  0.3958 | Valid MBE:  0.3889 | \n",
      "Epoch: 6    | Elapsed Time:  53.87 s | Train Loss:  1.1546 | Valid Loss:  1.1753 | Train ROC AUC:  0.7619 | Valid ROC AUC:  0.7473 | Train MBE:  0.3888 | Valid MBE:  0.3960 | \n",
      "Epoch: 7    | Elapsed Time:  53.40 s | Train Loss:  1.1480 | Valid Loss:  1.1879 | Train ROC AUC:  0.7662 | Valid ROC AUC:  0.7464 | Train MBE:  0.3863 | Valid MBE:  0.3505 | \n",
      "Epoch: 8    | Elapsed Time:  52.02 s | Train Loss:  1.1440 | Valid Loss:  1.1808 | Train ROC AUC:  0.7684 | Valid ROC AUC:  0.7450 | Train MBE:  0.3839 | Valid MBE:  0.4047 | \n",
      "Epoch: 9    | Elapsed Time:  51.81 s | Train Loss:  1.1367 | Valid Loss:  1.1885 | Train ROC AUC:  0.7716 | Valid ROC AUC:  0.7416 | Train MBE:  0.3814 | Valid MBE:  0.3989 | \n",
      "Epoch: 10   | Elapsed Time:  52.03 s | Train Loss:  1.1331 | Valid Loss:  1.1865 | Train ROC AUC:  0.7727 | Valid ROC AUC:  0.7428 | Train MBE:  0.3802 | Valid MBE:  0.4154 | \n",
      "Epoch: 11   | Elapsed Time:  52.03 s | Train Loss:  1.1315 | Valid Loss:  1.1817 | Train ROC AUC:  0.7740 | Valid ROC AUC:  0.7447 | Train MBE:  0.3794 | Valid MBE:  0.4098 | \n",
      "Epoch: 12   | Elapsed Time:  54.85 s | Train Loss:  1.1304 | Valid Loss:  1.1865 | Train ROC AUC:  0.7750 | Valid ROC AUC:  0.7429 | Train MBE:  0.3790 | Valid MBE:  0.3859 | \n",
      "Epoch: 13   | Elapsed Time:  52.04 s | Train Loss:  1.1284 | Valid Loss:  1.1889 | Train ROC AUC:  0.7753 | Valid ROC AUC:  0.7441 | Train MBE:  0.3783 | Valid MBE:  0.3834 | \n",
      "Epoch: 14   | Elapsed Time:  51.83 s | Train Loss:  1.1250 | Valid Loss:  1.1913 | Train ROC AUC:  0.7774 | Valid ROC AUC:  0.7421 | Train MBE:  0.3764 | Valid MBE:  0.4400 | \n",
      "Epoch: 15   | Elapsed Time:  51.72 s | Train Loss:  1.1260 | Valid Loss:  1.1849 | Train ROC AUC:  0.7765 | Valid ROC AUC:  0.7427 | Train MBE:  0.3775 | Valid MBE:  0.4177 | \n",
      "Epoch: 16   | Elapsed Time:  51.84 s | Train Loss:  1.1283 | Valid Loss:  1.1880 | Train ROC AUC:  0.7757 | Valid ROC AUC:  0.7423 | Train MBE:  0.3783 | Valid MBE:  0.3983 | \n",
      "Epoch: 17   | Elapsed Time:  51.82 s | Train Loss:  1.1229 | Valid Loss:  1.1864 | Train ROC AUC:  0.7773 | Valid ROC AUC:  0.7425 | Train MBE:  0.3760 | Valid MBE:  0.4156 | \n",
      "Epoch: 18   | Elapsed Time:  51.93 s | Train Loss:  1.1165 | Valid Loss:  1.1902 | Train ROC AUC:  0.7812 | Valid ROC AUC:  0.7413 | Train MBE:  0.3749 | Valid MBE:  0.3985 | \n",
      "Epoch: 19   | Elapsed Time:  51.90 s | Train Loss:  1.1154 | Valid Loss:  1.1909 | Train ROC AUC:  0.7815 | Valid ROC AUC:  0.7424 | Train MBE:  0.3742 | Valid MBE:  0.3869 | \n",
      "Epoch: 20   | Elapsed Time:  51.71 s | Train Loss:  1.1152 | Valid Loss:  1.1931 | Train ROC AUC:  0.7817 | Valid ROC AUC:  0.7424 | Train MBE:  0.3735 | Valid MBE:  0.4021 | \n",
      "Epoch: 21   | Elapsed Time:  51.65 s | Train Loss:  1.1138 | Valid Loss:  1.1906 | Train ROC AUC:  0.7815 | Valid ROC AUC:  0.7418 | Train MBE:  0.3730 | Valid MBE:  0.3943 | \n",
      "Epoch: 22   | Elapsed Time:  51.76 s | Train Loss:  1.1124 | Valid Loss:  1.1894 | Train ROC AUC:  0.7823 | Valid ROC AUC:  0.7424 | Train MBE:  0.3727 | Valid MBE:  0.4067 | \n",
      "Epoch: 23   | Elapsed Time:  52.12 s | Train Loss:  1.1141 | Valid Loss:  1.1927 | Train ROC AUC:  0.7818 | Valid ROC AUC:  0.7412 | Train MBE:  0.3735 | Valid MBE:  0.4150 | \n",
      "Epoch: 24   | Elapsed Time:  51.80 s | Train Loss:  1.1097 | Valid Loss:  1.1910 | Train ROC AUC:  0.7837 | Valid ROC AUC:  0.7421 | Train MBE:  0.3721 | Valid MBE:  0.3994 | \n",
      "Epoch: 25   | Elapsed Time:  51.99 s | Train Loss:  1.1114 | Valid Loss:  1.1937 | Train ROC AUC:  0.7826 | Valid ROC AUC:  0.7415 | Train MBE:  0.3726 | Valid MBE:  0.4045 | \n",
      "Epoch: 26   | Elapsed Time:  51.96 s | Train Loss:  1.1106 | Valid Loss:  1.1933 | Train ROC AUC:  0.7832 | Valid ROC AUC:  0.7421 | Train MBE:  0.3716 | Valid MBE:  0.3986 | \n",
      "Epoch: 27   | Elapsed Time:  52.01 s | Train Loss:  1.1124 | Valid Loss:  1.1902 | Train ROC AUC:  0.7827 | Valid ROC AUC:  0.7426 | Train MBE:  0.3725 | Valid MBE:  0.4100 | \n",
      "Epoch: 28   | Elapsed Time:  51.91 s | Train Loss:  1.1111 | Valid Loss:  1.1948 | Train ROC AUC:  0.7827 | Valid ROC AUC:  0.7417 | Train MBE:  0.3727 | Valid MBE:  0.3964 | \n",
      "Epoch: 29   | Elapsed Time:  51.88 s | Train Loss:  1.1119 | Valid Loss:  1.1922 | Train ROC AUC:  0.7827 | Valid ROC AUC:  0.7426 | Train MBE:  0.3688 | Valid MBE:  0.4085 | \n",
      "Epoch: 30   | Elapsed Time:  51.70 s | Train Loss:  1.1085 | Valid Loss:  1.1899 | Train ROC AUC:  0.7839 | Valid ROC AUC:  0.7430 | Train MBE:  0.3728 | Valid MBE:  0.3998 | \n",
      "Epoch: 31   | Elapsed Time:  51.80 s | Train Loss:  1.1109 | Valid Loss:  1.1930 | Train ROC AUC:  0.7833 | Valid ROC AUC:  0.7419 | Train MBE:  0.3716 | Valid MBE:  0.4081 | \n",
      "Epoch: 32   | Elapsed Time:  51.88 s | Train Loss:  1.1090 | Valid Loss:  1.1906 | Train ROC AUC:  0.7839 | Valid ROC AUC:  0.7426 | Train MBE:  0.3712 | Valid MBE:  0.4034 | \n",
      "Epoch: 33   | Elapsed Time:  51.83 s | Train Loss:  1.1101 | Valid Loss:  1.1915 | Train ROC AUC:  0.7838 | Valid ROC AUC:  0.7420 | Train MBE:  0.3720 | Valid MBE:  0.4008 | \n",
      "Epoch: 34   | Elapsed Time:  52.07 s | Train Loss:  1.1100 | Valid Loss:  1.1909 | Train ROC AUC:  0.7834 | Valid ROC AUC:  0.7427 | Train MBE:  0.3721 | Valid MBE:  0.4018 | \n",
      "Epoch: 35   | Elapsed Time:  51.76 s | Train Loss:  1.1091 | Valid Loss:  1.1912 | Train ROC AUC:  0.7841 | Valid ROC AUC:  0.7422 | Train MBE:  0.3712 | Valid MBE:  0.4025 | \n",
      "Epoch: 36   | Elapsed Time:  51.84 s | Train Loss:  1.1079 | Valid Loss:  1.1912 | Train ROC AUC:  0.7840 | Valid ROC AUC:  0.7425 | Train MBE:  0.3716 | Valid MBE:  0.4024 | \n",
      "Epoch: 37   | Elapsed Time:  51.64 s | Train Loss:  1.1090 | Valid Loss:  1.1916 | Train ROC AUC:  0.7841 | Valid ROC AUC:  0.7418 | Train MBE:  0.3708 | Valid MBE:  0.4076 | \n",
      "Epoch: 38   | Elapsed Time:  51.84 s | Train Loss:  1.1111 | Valid Loss:  1.1893 | Train ROC AUC:  0.7829 | Valid ROC AUC:  0.7429 | Train MBE:  0.3720 | Valid MBE:  0.4065 | \n",
      "Epoch: 39   | Elapsed Time:  51.81 s | Train Loss:  1.1097 | Valid Loss:  1.1923 | Train ROC AUC:  0.7833 | Valid ROC AUC:  0.7412 | Train MBE:  0.3718 | Valid MBE:  0.4017 | \n",
      "Epoch: 40   | Elapsed Time:  52.09 s | Train Loss:  1.1115 | Valid Loss:  1.1915 | Train ROC AUC:  0.7824 | Valid ROC AUC:  0.7418 | Train MBE:  0.3735 | Valid MBE:  0.4069 | \n",
      "Epoch: 41   | Elapsed Time:  51.93 s | Train Loss:  1.1099 | Valid Loss:  1.1900 | Train ROC AUC:  0.7832 | Valid ROC AUC:  0.7426 | Train MBE:  0.3731 | Valid MBE:  0.4044 | \n",
      "Epoch: 42   | Elapsed Time:  51.75 s | Train Loss:  1.1095 | Valid Loss:  1.1907 | Train ROC AUC:  0.7842 | Valid ROC AUC:  0.7417 | Train MBE:  0.3727 | Valid MBE:  0.4038 | \n",
      "Epoch: 43   | Elapsed Time:  51.82 s | Train Loss:  1.1103 | Valid Loss:  1.1911 | Train ROC AUC:  0.7836 | Valid ROC AUC:  0.7423 | Train MBE:  0.3726 | Valid MBE:  0.4067 | \n",
      "Epoch: 44   | Elapsed Time:  51.77 s | Train Loss:  1.1119 | Valid Loss:  1.1907 | Train ROC AUC:  0.7831 | Valid ROC AUC:  0.7423 | Train MBE:  0.3725 | Valid MBE:  0.4071 | \n",
      "Epoch: 45   | Elapsed Time:  51.96 s | Train Loss:  1.1100 | Valid Loss:  1.1936 | Train ROC AUC:  0.7834 | Valid ROC AUC:  0.7413 | Train MBE:  0.3723 | Valid MBE:  0.4088 | \n",
      "Epoch: 46   | Elapsed Time:  51.99 s | Train Loss:  1.1092 | Valid Loss:  1.1914 | Train ROC AUC:  0.7839 | Valid ROC AUC:  0.7411 | Train MBE:  0.3725 | Valid MBE:  0.3947 | \n",
      "Epoch: 47   | Elapsed Time:  51.94 s | Train Loss:  1.1095 | Valid Loss:  1.1910 | Train ROC AUC:  0.7841 | Valid ROC AUC:  0.7410 | Train MBE:  0.3720 | Valid MBE:  0.4011 | \n",
      "Epoch: 48   | Elapsed Time:  52.21 s | Train Loss:  1.1080 | Valid Loss:  1.1911 | Train ROC AUC:  0.7843 | Valid ROC AUC:  0.7419 | Train MBE:  0.3721 | Valid MBE:  0.3955 | \n",
      "Epoch: 49   | Elapsed Time:  51.90 s | Train Loss:  1.1066 | Valid Loss:  1.1916 | Train ROC AUC:  0.7846 | Valid ROC AUC:  0.7423 | Train MBE:  0.3716 | Valid MBE:  0.4011 | \n",
      "Epoch: 50   | Elapsed Time:  51.91 s | Train Loss:  1.1103 | Valid Loss:  1.1908 | Train ROC AUC:  0.7831 | Valid ROC AUC:  0.7431 | Train MBE:  0.3714 | Valid MBE:  0.4051 | \n",
      "Epoch: 51   | Elapsed Time:  51.94 s | Train Loss:  1.1092 | Valid Loss:  1.1911 | Train ROC AUC:  0.7835 | Valid ROC AUC:  0.7425 | Train MBE:  0.3714 | Valid MBE:  0.4061 | \n",
      "Epoch: 52   | Elapsed Time:  51.80 s | Train Loss:  1.1090 | Valid Loss:  1.1922 | Train ROC AUC:  0.7840 | Valid ROC AUC:  0.7422 | Train MBE:  0.3715 | Valid MBE:  0.4021 | \n",
      "Total Time elapsed:  2553.7846\n",
      "======================== End of Training ===================\n",
      " *********************** SUMMARY FOR VALIDATION ***********************\n",
      "  Best Model loss: 1.1756210904568434\n",
      "  Best Model ROC AUC: 0.7491414482485647\n",
      "  Best Model Prediction Bias: 0.424123095959459\n",
      " *********************************************************************\n"
     ]
    }
   ],
   "source": [
    "engine(\n",
    "    model=model,\n",
    "    train_dataloader=train_dataloader,\n",
    "    eval_dataloader=valid_dataloader,\n",
    "    optimizer=optimizer,\n",
    "    criterion=criterion,\n",
    "    scheduler=scheduler,\n",
    "    config=config,\n",
    "    checkpoint=checkpoint\n",
    ")"
   ]
  },
  {
   "cell_type": "markdown",
   "id": "0cb129df-00fc-4fee-950e-3f44455a79ab",
   "metadata": {},
   "source": [
    "* Model performance on test set"
   ]
  },
  {
   "cell_type": "code",
   "execution_count": 12,
   "id": "d23fdbfe-96c1-4d6e-ae9e-eab20bb0c3dc",
   "metadata": {},
   "outputs": [],
   "source": [
    "from src.train import validate\n",
    "checkpoint = torch.load(\"models/checkpoint.pt\")"
   ]
  },
  {
   "cell_type": "code",
   "execution_count": 13,
   "id": "588c6153-1066-46cd-8114-3b5046c5701c",
   "metadata": {},
   "outputs": [
    {
     "data": {
      "text/plain": [
       "<All keys matched successfully>"
      ]
     },
     "execution_count": 13,
     "metadata": {},
     "output_type": "execute_result"
    }
   ],
   "source": [
    "state_dict = checkpoint[\"best_state_dict\"]\n",
    "model.load_state_dict(state_dict)"
   ]
  },
  {
   "cell_type": "code",
   "execution_count": 14,
   "id": "13327e52-db06-4914-9dfb-0caa7553ee00",
   "metadata": {},
   "outputs": [],
   "source": [
    "test_dataset = CustomDataset(\n",
    "    emb_cols=emb_cols, cont_cols=cont_cols, x=X_test, y=y_test\n",
    ")\n",
    "\n",
    "test_dataloader = DataLoader(\n",
    "    test_dataset,\n",
    "    sampler=SequentialSampler(test_dataset),\n",
    "    batch_size=2000,\n",
    ")"
   ]
  },
  {
   "cell_type": "code",
   "execution_count": 15,
   "id": "c5d7ec65-830c-49e9-a702-92cb026a088d",
   "metadata": {},
   "outputs": [],
   "source": [
    "performance = validate(model=model, dataloader=test_dataloader, criterion=criterion, device=config[\"DEVICE\"])"
   ]
  },
  {
   "cell_type": "code",
   "execution_count": 16,
   "id": "bf886292-d552-481f-9a26-872acdf18bf0",
   "metadata": {},
   "outputs": [
    {
     "name": "stdout",
     "output_type": "stream",
     "text": [
      "{'loss': 1.1856775542595208, 'roc_auc': 0.7431724729282905, 'mbe': 0.4242553971719455}\n"
     ]
    }
   ],
   "source": [
    "print(performance[0])"
   ]
  },
  {
   "cell_type": "code",
   "execution_count": 17,
   "id": "83da397a-8c39-4021-aa07-d706a0fd6048",
   "metadata": {},
   "outputs": [],
   "source": [
    "y_pred = [x > 0.5 for x in performance[1]]"
   ]
  },
  {
   "cell_type": "code",
   "execution_count": 18,
   "id": "78db3728-faad-48de-9f2e-581148c3210f",
   "metadata": {},
   "outputs": [],
   "source": [
    "from sklearn.metrics import confusion_matrix, classification_report"
   ]
  },
  {
   "cell_type": "code",
   "execution_count": 19,
   "id": "c5cfadaa-f2b1-4ffd-8d4a-a940121543ff",
   "metadata": {},
   "outputs": [
    {
     "data": {
      "image/png": "[encoded data removed]",
      "text/plain": [
       "<Figure size 432x288 with 2 Axes>"
      ]
     },
     "metadata": {
      "needs_background": "light"
     },
     "output_type": "display_data"
    }
   ],
   "source": [
    "import seaborn as sn\n",
    "import matplotlib.pyplot as plt\n",
    "cf_matrix = confusion_matrix(y_true=y_test, y_pred=y_pred)\n",
    "\n",
    "sn.heatmap(cf_matrix, annot=True)\n",
    "plt.savefig(\"images/confusion_matrix.png\")"
   ]
  },
  {
   "cell_type": "code",
   "execution_count": 20,
   "id": "b3b50ae8-8e5c-4df6-be5d-4ea84a0a761d",
   "metadata": {},
   "outputs": [
    {
     "name": "stdout",
     "output_type": "stream",
     "text": [
      "              precision    recall  f1-score   support\n",
      "\n",
      "           0       0.99      0.65      0.79    554103\n",
      "           1       0.02      0.71      0.05      6712\n",
      "\n",
      "    accuracy                           0.65    560815\n",
      "   macro avg       0.51      0.68      0.42    560815\n",
      "weighted avg       0.98      0.65      0.78    560815\n",
      "\n"
     ]
    }
   ],
   "source": [
    "print(classification_report(y_test, y_pred))"
   ]
  },
  {
   "cell_type": "code",
   "execution_count": null,
   "id": "38cf8b01-bd74-4e85-9431-6bbcbfc7e895",
   "metadata": {},
   "outputs": [],
   "source": []
  },
  {
   "cell_type": "markdown",
   "id": "8081deae-c408-47e2-8f76-ba4554c49ccf",
   "metadata": {},
   "source": [
    "# Probability prediction"
   ]
  },
  {
   "cell_type": "code",
   "execution_count": 21,
   "id": "e00dcfc8-e557-4bca-9a16-a333f9179877",
   "metadata": {},
   "outputs": [
    {
     "data": {
      "text/html": [
       "<div>\n",
       "<style scoped>\n",
       "    .dataframe tbody tr th:only-of-type {\n",
       "        vertical-align: middle;\n",
       "    }\n",
       "\n",
       "    .dataframe tbody tr th {\n",
       "        vertical-align: top;\n",
       "    }\n",
       "\n",
       "    .dataframe thead th {\n",
       "        text-align: right;\n",
       "    }\n",
       "</style>\n",
       "<table border=\"1\" class=\"dataframe\">\n",
       "  <thead>\n",
       "    <tr style=\"text-align: right;\">\n",
       "      <th></th>\n",
       "      <th>id</th>\n",
       "      <th>timestamp</th>\n",
       "      <th>campaignId</th>\n",
       "      <th>platform</th>\n",
       "      <th>softwareVersion</th>\n",
       "      <th>sourceGameId</th>\n",
       "      <th>country</th>\n",
       "      <th>startCount</th>\n",
       "      <th>viewCount</th>\n",
       "      <th>clickCount</th>\n",
       "      <th>installCount</th>\n",
       "      <th>lastStart</th>\n",
       "      <th>startCount1d</th>\n",
       "      <th>startCount7d</th>\n",
       "      <th>connectionType</th>\n",
       "      <th>deviceType</th>\n",
       "    </tr>\n",
       "  </thead>\n",
       "  <tbody>\n",
       "    <tr>\n",
       "      <th>0</th>\n",
       "      <td>5c4609b6eb7476266130c224</td>\n",
       "      <td>2019-01-21T18:04:38.028+00:00</td>\n",
       "      <td>598c1d93ca9cf7103cf61dcc</td>\n",
       "      <td>android</td>\n",
       "      <td>4.4.2</td>\n",
       "      <td>1515907</td>\n",
       "      <td>RU</td>\n",
       "      <td>6</td>\n",
       "      <td>5</td>\n",
       "      <td>0</td>\n",
       "      <td>0</td>\n",
       "      <td>2019-01-21T17:58:23.728+00:00</td>\n",
       "      <td>6</td>\n",
       "      <td>6</td>\n",
       "      <td>wifi</td>\n",
       "      <td>LENOVO Lenovo A536</td>\n",
       "    </tr>\n",
       "    <tr>\n",
       "      <th>1</th>\n",
       "      <td>5c454de3a21d3edde84568d9</td>\n",
       "      <td>2019-01-21T04:43:15.681+00:00</td>\n",
       "      <td>598c1d93ca9cf7103cf61dcc</td>\n",
       "      <td>android</td>\n",
       "      <td>5.1</td>\n",
       "      <td>2724746</td>\n",
       "      <td>MY</td>\n",
       "      <td>1</td>\n",
       "      <td>0</td>\n",
       "      <td>0</td>\n",
       "      <td>1</td>\n",
       "      <td>NaN</td>\n",
       "      <td>1</td>\n",
       "      <td>1</td>\n",
       "      <td>cellular</td>\n",
       "      <td>HUAWEI HUAWEI LUA-U22</td>\n",
       "    </tr>\n",
       "    <tr>\n",
       "      <th>2</th>\n",
       "      <td>5c3c4f5769db2eee0c345059</td>\n",
       "      <td>2019-01-14T08:59:03.489+00:00</td>\n",
       "      <td>598c1d93ca9cf7103cf61dcc</td>\n",
       "      <td>android</td>\n",
       "      <td>4.4.4</td>\n",
       "      <td>78130</td>\n",
       "      <td>TR</td>\n",
       "      <td>49</td>\n",
       "      <td>29</td>\n",
       "      <td>4</td>\n",
       "      <td>1</td>\n",
       "      <td>2019-01-14T08:56:10.539+00:00</td>\n",
       "      <td>4</td>\n",
       "      <td>17</td>\n",
       "      <td>wifi</td>\n",
       "      <td>samsung SM-T113</td>\n",
       "    </tr>\n",
       "    <tr>\n",
       "      <th>3</th>\n",
       "      <td>5c4476bdf81acd685863a34f</td>\n",
       "      <td>2019-01-20T13:25:17.556+00:00</td>\n",
       "      <td>598c1d93ca9cf7103cf61dcc</td>\n",
       "      <td>android</td>\n",
       "      <td>4.4.4</td>\n",
       "      <td>1261034</td>\n",
       "      <td>TR</td>\n",
       "      <td>1</td>\n",
       "      <td>0</td>\n",
       "      <td>0</td>\n",
       "      <td>1</td>\n",
       "      <td>NaN</td>\n",
       "      <td>1</td>\n",
       "      <td>1</td>\n",
       "      <td>wifi</td>\n",
       "      <td>samsung SM-T113</td>\n",
       "    </tr>\n",
       "    <tr>\n",
       "      <th>4</th>\n",
       "      <td>5c456954b7d257ead2f99568</td>\n",
       "      <td>2019-01-21T06:40:20.962+00:00</td>\n",
       "      <td>598c1d93ca9cf7103cf61dcc</td>\n",
       "      <td>android</td>\n",
       "      <td>5.1</td>\n",
       "      <td>1617990</td>\n",
       "      <td>MY</td>\n",
       "      <td>7</td>\n",
       "      <td>4</td>\n",
       "      <td>0</td>\n",
       "      <td>1</td>\n",
       "      <td>2019-01-21T06:38:38.298+00:00</td>\n",
       "      <td>3</td>\n",
       "      <td>7</td>\n",
       "      <td>cellular</td>\n",
       "      <td>OPPO X9009</td>\n",
       "    </tr>\n",
       "  </tbody>\n",
       "</table>\n",
       "</div>"
      ],
      "text/plain": [
       "                         id                      timestamp  \\\n",
       "0  5c4609b6eb7476266130c224  2019-01-21T18:04:38.028+00:00   \n",
       "1  5c454de3a21d3edde84568d9  2019-01-21T04:43:15.681+00:00   \n",
       "2  5c3c4f5769db2eee0c345059  2019-01-14T08:59:03.489+00:00   \n",
       "3  5c4476bdf81acd685863a34f  2019-01-20T13:25:17.556+00:00   \n",
       "4  5c456954b7d257ead2f99568  2019-01-21T06:40:20.962+00:00   \n",
       "\n",
       "                 campaignId platform softwareVersion  sourceGameId country  \\\n",
       "0  598c1d93ca9cf7103cf61dcc  android           4.4.2       1515907      RU   \n",
       "1  598c1d93ca9cf7103cf61dcc  android             5.1       2724746      MY   \n",
       "2  598c1d93ca9cf7103cf61dcc  android           4.4.4         78130      TR   \n",
       "3  598c1d93ca9cf7103cf61dcc  android           4.4.4       1261034      TR   \n",
       "4  598c1d93ca9cf7103cf61dcc  android             5.1       1617990      MY   \n",
       "\n",
       "   startCount  viewCount  clickCount  installCount  \\\n",
       "0           6          5           0             0   \n",
       "1           1          0           0             1   \n",
       "2          49         29           4             1   \n",
       "3           1          0           0             1   \n",
       "4           7          4           0             1   \n",
       "\n",
       "                       lastStart  startCount1d  startCount7d connectionType  \\\n",
       "0  2019-01-21T17:58:23.728+00:00             6             6           wifi   \n",
       "1                            NaN             1             1       cellular   \n",
       "2  2019-01-14T08:56:10.539+00:00             4            17           wifi   \n",
       "3                            NaN             1             1           wifi   \n",
       "4  2019-01-21T06:38:38.298+00:00             3             7       cellular   \n",
       "\n",
       "              deviceType  \n",
       "0     LENOVO Lenovo A536  \n",
       "1  HUAWEI HUAWEI LUA-U22  \n",
       "2        samsung SM-T113  \n",
       "3        samsung SM-T113  \n",
       "4             OPPO X9009  "
      ]
     },
     "execution_count": 21,
     "metadata": {},
     "output_type": "execute_result"
    }
   ],
   "source": [
    "PRED_DF_PATH = \"data/assessment_data.csv\"\n",
    "pred_df = pd.read_csv(PRED_DF_PATH, delimiter=\";\")\n",
    "pred_df.head()"
   ]
  },
  {
   "cell_type": "code",
   "execution_count": 22,
   "id": "5819b425-3c07-4f2b-8b85-b45045560739",
   "metadata": {},
   "outputs": [
    {
     "data": {
      "text/plain": [
       "id                      0\n",
       "timestamp               0\n",
       "campaignId              0\n",
       "platform                0\n",
       "softwareVersion         0\n",
       "sourceGameId            0\n",
       "country               281\n",
       "startCount              0\n",
       "viewCount               0\n",
       "clickCount              0\n",
       "installCount            0\n",
       "lastStart          275256\n",
       "startCount1d            0\n",
       "startCount7d            0\n",
       "connectionType          0\n",
       "deviceType              2\n",
       "dtype: int64"
      ]
     },
     "execution_count": 22,
     "metadata": {},
     "output_type": "execute_result"
    }
   ],
   "source": [
    "pred_df.isna().sum()"
   ]
  },
  {
   "cell_type": "code",
   "execution_count": 23,
   "id": "76ab9ffc-230f-4601-9260-5a09bc6b8726",
   "metadata": {},
   "outputs": [],
   "source": [
    "with open(\"models/encoders.pickle\", \"rb\") as f:\n",
    "    encoder = pickle.load(f)\n",
    "    \n",
    "with open(\"models/scaler.pickle\", \"rb\") as f:\n",
    "    scaler = pickle.load(f)\n",
    "\n",
    "test_data_transformer = DataTransformer(encoders=encoder, scaler=scaler,is_train_mode=False)"
   ]
  },
  {
   "cell_type": "code",
   "execution_count": 24,
   "id": "3c7a017e-ffdb-49c5-8e4b-51262a49e85d",
   "metadata": {},
   "outputs": [],
   "source": [
    "X_assessment = test_data_transformer.transform(pred_df)"
   ]
  },
  {
   "cell_type": "code",
   "execution_count": 25,
   "id": "05068e76-06b9-43d8-bc8f-04d79289c93f",
   "metadata": {},
   "outputs": [
    {
     "data": {
      "text/html": [
       "<div>\n",
       "<style scoped>\n",
       "    .dataframe tbody tr th:only-of-type {\n",
       "        vertical-align: middle;\n",
       "    }\n",
       "\n",
       "    .dataframe tbody tr th {\n",
       "        vertical-align: top;\n",
       "    }\n",
       "\n",
       "    .dataframe thead th {\n",
       "        text-align: right;\n",
       "    }\n",
       "</style>\n",
       "<table border=\"1\" class=\"dataframe\">\n",
       "  <thead>\n",
       "    <tr style=\"text-align: right;\">\n",
       "      <th></th>\n",
       "      <th>id</th>\n",
       "      <th>campaignId</th>\n",
       "      <th>platform</th>\n",
       "      <th>softwareVersion</th>\n",
       "      <th>sourceGameId</th>\n",
       "      <th>country</th>\n",
       "      <th>startCount</th>\n",
       "      <th>clickCount</th>\n",
       "      <th>installCount</th>\n",
       "      <th>startCount1d</th>\n",
       "      <th>startCount7d</th>\n",
       "      <th>connectionType</th>\n",
       "      <th>deviceType</th>\n",
       "      <th>month</th>\n",
       "      <th>day</th>\n",
       "      <th>hour</th>\n",
       "      <th>minute</th>\n",
       "      <th>second</th>\n",
       "      <th>elapsed_time</th>\n",
       "      <th>countRatio</th>\n",
       "    </tr>\n",
       "  </thead>\n",
       "  <tbody>\n",
       "    <tr>\n",
       "      <th>0</th>\n",
       "      <td>5c4609b6eb7476266130c224</td>\n",
       "      <td>56</td>\n",
       "      <td>0</td>\n",
       "      <td>65</td>\n",
       "      <td>12407</td>\n",
       "      <td>173</td>\n",
       "      <td>-0.467835</td>\n",
       "      <td>-0.305293</td>\n",
       "      <td>-0.367509</td>\n",
       "      <td>-0.068642</td>\n",
       "      <td>-0.394945</td>\n",
       "      <td>2</td>\n",
       "      <td>9902</td>\n",
       "      <td>0.0</td>\n",
       "      <td>1.626914</td>\n",
       "      <td>0.883179</td>\n",
       "      <td>-1.467447</td>\n",
       "      <td>0.490564</td>\n",
       "      <td>-0.307961</td>\n",
       "      <td>0.721665</td>\n",
       "    </tr>\n",
       "    <tr>\n",
       "      <th>1</th>\n",
       "      <td>5c454de3a21d3edde84568d9</td>\n",
       "      <td>56</td>\n",
       "      <td>0</td>\n",
       "      <td>86</td>\n",
       "      <td>27134</td>\n",
       "      <td>144</td>\n",
       "      <td>-0.523016</td>\n",
       "      <td>-0.305293</td>\n",
       "      <td>0.282660</td>\n",
       "      <td>-0.500575</td>\n",
       "      <td>-0.537978</td>\n",
       "      <td>0</td>\n",
       "      <td>7005</td>\n",
       "      <td>0.0</td>\n",
       "      <td>1.626914</td>\n",
       "      <td>-1.214912</td>\n",
       "      <td>0.782163</td>\n",
       "      <td>-0.838156</td>\n",
       "      <td>-0.309275</td>\n",
       "      <td>-1.741852</td>\n",
       "    </tr>\n",
       "    <tr>\n",
       "      <th>2</th>\n",
       "      <td>5c3c4f5769db2eee0c345059</td>\n",
       "      <td>56</td>\n",
       "      <td>0</td>\n",
       "      <td>71</td>\n",
       "      <td>932</td>\n",
       "      <td>198</td>\n",
       "      <td>0.006715</td>\n",
       "      <td>0.283309</td>\n",
       "      <td>0.282660</td>\n",
       "      <td>-0.241415</td>\n",
       "      <td>-0.080273</td>\n",
       "      <td>2</td>\n",
       "      <td>26673</td>\n",
       "      <td>0.0</td>\n",
       "      <td>-0.036574</td>\n",
       "      <td>-0.615457</td>\n",
       "      <td>1.705081</td>\n",
       "      <td>-1.531402</td>\n",
       "      <td>-0.308668</td>\n",
       "      <td>0.007748</td>\n",
       "    </tr>\n",
       "    <tr>\n",
       "      <th>3</th>\n",
       "      <td>5c4476bdf81acd685863a34f</td>\n",
       "      <td>56</td>\n",
       "      <td>0</td>\n",
       "      <td>71</td>\n",
       "      <td>6217</td>\n",
       "      <td>198</td>\n",
       "      <td>-0.523016</td>\n",
       "      <td>-0.305293</td>\n",
       "      <td>0.282660</td>\n",
       "      <td>-0.500575</td>\n",
       "      <td>-0.537978</td>\n",
       "      <td>2</td>\n",
       "      <td>26673</td>\n",
       "      <td>0.0</td>\n",
       "      <td>1.389273</td>\n",
       "      <td>0.133861</td>\n",
       "      <td>-0.256118</td>\n",
       "      <td>-0.722615</td>\n",
       "      <td>-0.309275</td>\n",
       "      <td>-1.741852</td>\n",
       "    </tr>\n",
       "    <tr>\n",
       "      <th>4</th>\n",
       "      <td>5c456954b7d257ead2f99568</td>\n",
       "      <td>56</td>\n",
       "      <td>0</td>\n",
       "      <td>86</td>\n",
       "      <td>15842</td>\n",
       "      <td>144</td>\n",
       "      <td>-0.456799</td>\n",
       "      <td>-0.305293</td>\n",
       "      <td>0.282660</td>\n",
       "      <td>-0.327802</td>\n",
       "      <td>-0.366339</td>\n",
       "      <td>0</td>\n",
       "      <td>13462</td>\n",
       "      <td>0.0</td>\n",
       "      <td>1.626914</td>\n",
       "      <td>-0.915185</td>\n",
       "      <td>0.609117</td>\n",
       "      <td>-0.549304</td>\n",
       "      <td>-0.308915</td>\n",
       "      <td>-0.052583</td>\n",
       "    </tr>\n",
       "  </tbody>\n",
       "</table>\n",
       "</div>"
      ],
      "text/plain": [
       "                         id  campaignId  platform  softwareVersion  \\\n",
       "0  5c4609b6eb7476266130c224          56         0               65   \n",
       "1  5c454de3a21d3edde84568d9          56         0               86   \n",
       "2  5c3c4f5769db2eee0c345059          56         0               71   \n",
       "3  5c4476bdf81acd685863a34f          56         0               71   \n",
       "4  5c456954b7d257ead2f99568          56         0               86   \n",
       "\n",
       "   sourceGameId  country  startCount  clickCount  installCount  startCount1d  \\\n",
       "0         12407      173   -0.467835   -0.305293     -0.367509     -0.068642   \n",
       "1         27134      144   -0.523016   -0.305293      0.282660     -0.500575   \n",
       "2           932      198    0.006715    0.283309      0.282660     -0.241415   \n",
       "3          6217      198   -0.523016   -0.305293      0.282660     -0.500575   \n",
       "4         15842      144   -0.456799   -0.305293      0.282660     -0.327802   \n",
       "\n",
       "   startCount7d  connectionType  deviceType  month       day      hour  \\\n",
       "0     -0.394945               2        9902    0.0  1.626914  0.883179   \n",
       "1     -0.537978               0        7005    0.0  1.626914 -1.214912   \n",
       "2     -0.080273               2       26673    0.0 -0.036574 -0.615457   \n",
       "3     -0.537978               2       26673    0.0  1.389273  0.133861   \n",
       "4     -0.366339               0       13462    0.0  1.626914 -0.915185   \n",
       "\n",
       "     minute    second  elapsed_time  countRatio  \n",
       "0 -1.467447  0.490564     -0.307961    0.721665  \n",
       "1  0.782163 -0.838156     -0.309275   -1.741852  \n",
       "2  1.705081 -1.531402     -0.308668    0.007748  \n",
       "3 -0.256118 -0.722615     -0.309275   -1.741852  \n",
       "4  0.609117 -0.549304     -0.308915   -0.052583  "
      ]
     },
     "execution_count": 25,
     "metadata": {},
     "output_type": "execute_result"
    }
   ],
   "source": [
    "X_assessment.head()"
   ]
  },
  {
   "cell_type": "code",
   "execution_count": 26,
   "id": "193ed4bd-e4bb-4fc4-be50-18948b88420a",
   "metadata": {},
   "outputs": [],
   "source": [
    "pred_dataset = CustomDataset(\n",
    "    emb_cols=emb_cols, cont_cols=cont_cols, x=X_assessment, y=None\n",
    ")\n",
    "pred_dataloader = DataLoader(\n",
    "    pred_dataset,\n",
    "    sampler=SequentialSampler(pred_dataset),\n",
    "    batch_size=2000,\n",
    ")"
   ]
  },
  {
   "cell_type": "code",
   "execution_count": 27,
   "id": "b939e922-36aa-494f-b8c5-80c08a728d0a",
   "metadata": {},
   "outputs": [],
   "source": [
    "from src.train import predict_proba, validate"
   ]
  },
  {
   "cell_type": "code",
   "execution_count": 28,
   "id": "30f6f6af-2692-489e-9430-daf67449c1ad",
   "metadata": {},
   "outputs": [],
   "source": [
    "predictions = predict_proba(model=model, dataloader=pred_dataloader,device=config[\"DEVICE\"])"
   ]
  },
  {
   "cell_type": "code",
   "execution_count": 29,
   "id": "bcb6bedd-6827-4553-a7b9-bdd706f93471",
   "metadata": {},
   "outputs": [],
   "source": [
    "pred = [p[0] for p in predictions]"
   ]
  },
  {
   "cell_type": "code",
   "execution_count": 30,
   "id": "577ada60-f4cd-4514-b8f4-e7931e16cce6",
   "metadata": {},
   "outputs": [],
   "source": [
    "data = pd.DataFrame(list(zip(X_assessment.id, pred)), columns=[\"ID\", \"install_proba\"])"
   ]
  },
  {
   "cell_type": "code",
   "execution_count": 31,
   "id": "5dcfa6ef-dafc-474a-b568-439b29ca21d2",
   "metadata": {},
   "outputs": [],
   "source": [
    "data.to_csv(\"install_proba.csv\", index=False)"
   ]
  },
  {
   "cell_type": "code",
   "execution_count": null,
   "id": "5416e2b8-4fd6-4a2c-ae5b-df81f216af22",
   "metadata": {},
   "outputs": [],
   "source": []
  }
 ],
 "metadata": {
  "kernelspec": {
   "display_name": "Python 3",
   "language": "python",
   "name": "python3"
  },
  "language_info": {
   "codemirror_mode": {
    "name": "ipython",
    "version": 3
   },
   "file_extension": ".py",
   "mimetype": "text/x-python",
   "name": "python",
   "nbconvert_exporter": "python",
   "pygments_lexer": "ipython3",
   "version": "3.8.8"
  }
 },
 "nbformat": 4,
 "nbformat_minor": 5
}
